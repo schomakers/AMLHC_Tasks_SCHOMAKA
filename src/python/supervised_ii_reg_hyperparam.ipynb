{
 "cells": [
  {
   "cell_type": "markdown",
   "metadata": {},
   "source": [
    "## Task 4.3: Supervised ML - Regression and Hyperparameter tuning\n",
    "\n",
    "**Author**: Andre Schomakers\n",
    "\n",
    "**Date**: 09 Mar 2025\n",
    "\n",
    "This interactive Python notebook `.ipynb` is used for supervised ML for task 4.3 regression and hyperparameter tuning.\n",
    "\n"
   ]
  },
  {
   "cell_type": "code",
   "execution_count": 1,
   "metadata": {},
   "outputs": [],
   "source": [
    "# imports\n",
    "import pandas as pd\n",
    "import numpy as np\n",
    "from sklearn.model_selection import train_test_split, GridSearchCV, cross_val_score\n",
    "from sklearn.ensemble import RandomForestRegressor\n",
    "from sklearn.preprocessing import StandardScaler\n",
    "from sklearn.metrics import mean_squared_error, r2_score\n",
    "import matplotlib.pyplot as plt\n",
    "import seaborn as sns\n"
   ]
  },
  {
   "cell_type": "markdown",
   "metadata": {},
   "source": [
    "### Initial preprocessing\n"
   ]
  },
  {
   "cell_type": "code",
   "execution_count": 2,
   "metadata": {},
   "outputs": [],
   "source": [
    "# load the dataset via pandas\n",
    "df = pd.read_csv(\"BloodBrain.csv\")"
   ]
  },
  {
   "cell_type": "code",
   "execution_count": 3,
   "metadata": {},
   "outputs": [
    {
     "data": {
      "text/html": [
       "<div>\n",
       "<style scoped>\n",
       "    .dataframe tbody tr th:only-of-type {\n",
       "        vertical-align: middle;\n",
       "    }\n",
       "\n",
       "    .dataframe tbody tr th {\n",
       "        vertical-align: top;\n",
       "    }\n",
       "\n",
       "    .dataframe thead th {\n",
       "        text-align: right;\n",
       "    }\n",
       "</style>\n",
       "<table border=\"1\" class=\"dataframe\">\n",
       "  <thead>\n",
       "    <tr style=\"text-align: right;\">\n",
       "      <th></th>\n",
       "      <th>tpsa</th>\n",
       "      <th>nbasic</th>\n",
       "      <th>negative</th>\n",
       "      <th>vsa_hyd</th>\n",
       "      <th>a_aro</th>\n",
       "      <th>weight</th>\n",
       "      <th>peoe_vsa.0</th>\n",
       "      <th>peoe_vsa.1</th>\n",
       "      <th>peoe_vsa.2</th>\n",
       "      <th>peoe_vsa.3</th>\n",
       "      <th>...</th>\n",
       "      <th>ctdh</th>\n",
       "      <th>ctaa</th>\n",
       "      <th>mchg</th>\n",
       "      <th>achg</th>\n",
       "      <th>rdta</th>\n",
       "      <th>n_sp2</th>\n",
       "      <th>n_sp3</th>\n",
       "      <th>o_sp2</th>\n",
       "      <th>o_sp3</th>\n",
       "      <th>logBBB</th>\n",
       "    </tr>\n",
       "  </thead>\n",
       "  <tbody>\n",
       "    <tr>\n",
       "      <th>0</th>\n",
       "      <td>12.030000</td>\n",
       "      <td>1</td>\n",
       "      <td>0</td>\n",
       "      <td>167.06700</td>\n",
       "      <td>0</td>\n",
       "      <td>156.293</td>\n",
       "      <td>76.94749</td>\n",
       "      <td>43.44619</td>\n",
       "      <td>0.00000</td>\n",
       "      <td>0.000000</td>\n",
       "      <td>...</td>\n",
       "      <td>1</td>\n",
       "      <td>1</td>\n",
       "      <td>0.9241</td>\n",
       "      <td>0.9241</td>\n",
       "      <td>1.0000</td>\n",
       "      <td>0.000000</td>\n",
       "      <td>6.0255</td>\n",
       "      <td>0.000000</td>\n",
       "      <td>0.000000</td>\n",
       "      <td>1.08</td>\n",
       "    </tr>\n",
       "    <tr>\n",
       "      <th>1</th>\n",
       "      <td>49.330002</td>\n",
       "      <td>0</td>\n",
       "      <td>0</td>\n",
       "      <td>92.64243</td>\n",
       "      <td>6</td>\n",
       "      <td>151.165</td>\n",
       "      <td>38.24339</td>\n",
       "      <td>25.52006</td>\n",
       "      <td>0.00000</td>\n",
       "      <td>8.619013</td>\n",
       "      <td>...</td>\n",
       "      <td>2</td>\n",
       "      <td>2</td>\n",
       "      <td>1.2685</td>\n",
       "      <td>1.0420</td>\n",
       "      <td>1.0000</td>\n",
       "      <td>0.000000</td>\n",
       "      <td>6.5681</td>\n",
       "      <td>32.010201</td>\n",
       "      <td>33.613499</td>\n",
       "      <td>-0.40</td>\n",
       "    </tr>\n",
       "    <tr>\n",
       "      <th>2</th>\n",
       "      <td>50.529999</td>\n",
       "      <td>1</td>\n",
       "      <td>0</td>\n",
       "      <td>295.16700</td>\n",
       "      <td>15</td>\n",
       "      <td>366.485</td>\n",
       "      <td>58.05473</td>\n",
       "      <td>124.74020</td>\n",
       "      <td>21.65084</td>\n",
       "      <td>8.619013</td>\n",
       "      <td>...</td>\n",
       "      <td>1</td>\n",
       "      <td>4</td>\n",
       "      <td>1.2562</td>\n",
       "      <td>1.2562</td>\n",
       "      <td>0.2500</td>\n",
       "      <td>26.973301</td>\n",
       "      <td>10.8567</td>\n",
       "      <td>0.000000</td>\n",
       "      <td>27.545099</td>\n",
       "      <td>0.22</td>\n",
       "    </tr>\n",
       "    <tr>\n",
       "      <th>3</th>\n",
       "      <td>37.389999</td>\n",
       "      <td>0</td>\n",
       "      <td>0</td>\n",
       "      <td>319.11220</td>\n",
       "      <td>15</td>\n",
       "      <td>382.552</td>\n",
       "      <td>62.23933</td>\n",
       "      <td>124.74020</td>\n",
       "      <td>13.19232</td>\n",
       "      <td>21.785640</td>\n",
       "      <td>...</td>\n",
       "      <td>1</td>\n",
       "      <td>3</td>\n",
       "      <td>1.1962</td>\n",
       "      <td>1.1962</td>\n",
       "      <td>0.3333</td>\n",
       "      <td>21.706499</td>\n",
       "      <td>11.0017</td>\n",
       "      <td>0.000000</td>\n",
       "      <td>15.131600</td>\n",
       "      <td>0.14</td>\n",
       "    </tr>\n",
       "    <tr>\n",
       "      <th>4</th>\n",
       "      <td>37.389999</td>\n",
       "      <td>1</td>\n",
       "      <td>0</td>\n",
       "      <td>299.65800</td>\n",
       "      <td>12</td>\n",
       "      <td>326.464</td>\n",
       "      <td>74.80064</td>\n",
       "      <td>118.04060</td>\n",
       "      <td>33.00190</td>\n",
       "      <td>0.000000</td>\n",
       "      <td>...</td>\n",
       "      <td>1</td>\n",
       "      <td>3</td>\n",
       "      <td>1.2934</td>\n",
       "      <td>1.2934</td>\n",
       "      <td>0.3333</td>\n",
       "      <td>24.206100</td>\n",
       "      <td>10.8109</td>\n",
       "      <td>0.000000</td>\n",
       "      <td>15.133300</td>\n",
       "      <td>0.69</td>\n",
       "    </tr>\n",
       "    <tr>\n",
       "      <th>...</th>\n",
       "      <td>...</td>\n",
       "      <td>...</td>\n",
       "      <td>...</td>\n",
       "      <td>...</td>\n",
       "      <td>...</td>\n",
       "      <td>...</td>\n",
       "      <td>...</td>\n",
       "      <td>...</td>\n",
       "      <td>...</td>\n",
       "      <td>...</td>\n",
       "      <td>...</td>\n",
       "      <td>...</td>\n",
       "      <td>...</td>\n",
       "      <td>...</td>\n",
       "      <td>...</td>\n",
       "      <td>...</td>\n",
       "      <td>...</td>\n",
       "      <td>...</td>\n",
       "      <td>...</td>\n",
       "      <td>...</td>\n",
       "      <td>...</td>\n",
       "    </tr>\n",
       "    <tr>\n",
       "      <th>203</th>\n",
       "      <td>32.700001</td>\n",
       "      <td>1</td>\n",
       "      <td>0</td>\n",
       "      <td>233.69200</td>\n",
       "      <td>6</td>\n",
       "      <td>250.362</td>\n",
       "      <td>51.28292</td>\n",
       "      <td>109.50990</td>\n",
       "      <td>13.19232</td>\n",
       "      <td>0.000000</td>\n",
       "      <td>...</td>\n",
       "      <td>1</td>\n",
       "      <td>3</td>\n",
       "      <td>0.8717</td>\n",
       "      <td>0.8717</td>\n",
       "      <td>0.3333</td>\n",
       "      <td>0.000000</td>\n",
       "      <td>3.1150</td>\n",
       "      <td>0.000000</td>\n",
       "      <td>49.692799</td>\n",
       "      <td>-0.02</td>\n",
       "    </tr>\n",
       "    <tr>\n",
       "      <th>204</th>\n",
       "      <td>3.240000</td>\n",
       "      <td>0</td>\n",
       "      <td>0</td>\n",
       "      <td>343.24290</td>\n",
       "      <td>10</td>\n",
       "      <td>292.446</td>\n",
       "      <td>40.59702</td>\n",
       "      <td>104.67720</td>\n",
       "      <td>13.19232</td>\n",
       "      <td>0.000000</td>\n",
       "      <td>...</td>\n",
       "      <td>0</td>\n",
       "      <td>1</td>\n",
       "      <td>0.0000</td>\n",
       "      <td>0.0000</td>\n",
       "      <td>0.0000</td>\n",
       "      <td>0.000000</td>\n",
       "      <td>4.6658</td>\n",
       "      <td>0.000000</td>\n",
       "      <td>0.000000</td>\n",
       "      <td>0.08</td>\n",
       "    </tr>\n",
       "    <tr>\n",
       "      <th>205</th>\n",
       "      <td>32.340000</td>\n",
       "      <td>1</td>\n",
       "      <td>0</td>\n",
       "      <td>234.79200</td>\n",
       "      <td>6</td>\n",
       "      <td>261.389</td>\n",
       "      <td>75.11627</td>\n",
       "      <td>86.66676</td>\n",
       "      <td>0.00000</td>\n",
       "      <td>8.619013</td>\n",
       "      <td>...</td>\n",
       "      <td>1</td>\n",
       "      <td>2</td>\n",
       "      <td>1.2276</td>\n",
       "      <td>1.2276</td>\n",
       "      <td>0.5000</td>\n",
       "      <td>0.000000</td>\n",
       "      <td>16.1765</td>\n",
       "      <td>54.358601</td>\n",
       "      <td>0.000000</td>\n",
       "      <td>0.25</td>\n",
       "    </tr>\n",
       "    <tr>\n",
       "      <th>206</th>\n",
       "      <td>37.299999</td>\n",
       "      <td>0</td>\n",
       "      <td>0</td>\n",
       "      <td>124.25940</td>\n",
       "      <td>0</td>\n",
       "      <td>143.206</td>\n",
       "      <td>63.98079</td>\n",
       "      <td>14.70850</td>\n",
       "      <td>0.00000</td>\n",
       "      <td>0.000000</td>\n",
       "      <td>...</td>\n",
       "      <td>1</td>\n",
       "      <td>2</td>\n",
       "      <td>0.9082</td>\n",
       "      <td>0.9082</td>\n",
       "      <td>0.5000</td>\n",
       "      <td>0.000000</td>\n",
       "      <td>0.0000</td>\n",
       "      <td>30.101400</td>\n",
       "      <td>15.944600</td>\n",
       "      <td>-0.84</td>\n",
       "    </tr>\n",
       "    <tr>\n",
       "      <th>207</th>\n",
       "      <td>64.430000</td>\n",
       "      <td>0</td>\n",
       "      <td>0</td>\n",
       "      <td>224.75310</td>\n",
       "      <td>10</td>\n",
       "      <td>319.385</td>\n",
       "      <td>74.42332</td>\n",
       "      <td>43.65297</td>\n",
       "      <td>29.68691</td>\n",
       "      <td>6.699551</td>\n",
       "      <td>...</td>\n",
       "      <td>0</td>\n",
       "      <td>4</td>\n",
       "      <td>0.0000</td>\n",
       "      <td>0.0000</td>\n",
       "      <td>0.0000</td>\n",
       "      <td>26.665400</td>\n",
       "      <td>2.0261</td>\n",
       "      <td>40.455898</td>\n",
       "      <td>4.469700</td>\n",
       "      <td>-0.25</td>\n",
       "    </tr>\n",
       "  </tbody>\n",
       "</table>\n",
       "<p>208 rows × 135 columns</p>\n",
       "</div>"
      ],
      "text/plain": [
       "          tpsa  nbasic  negative    vsa_hyd  a_aro   weight  peoe_vsa.0  \\\n",
       "0    12.030000       1         0  167.06700      0  156.293    76.94749   \n",
       "1    49.330002       0         0   92.64243      6  151.165    38.24339   \n",
       "2    50.529999       1         0  295.16700     15  366.485    58.05473   \n",
       "3    37.389999       0         0  319.11220     15  382.552    62.23933   \n",
       "4    37.389999       1         0  299.65800     12  326.464    74.80064   \n",
       "..         ...     ...       ...        ...    ...      ...         ...   \n",
       "203  32.700001       1         0  233.69200      6  250.362    51.28292   \n",
       "204   3.240000       0         0  343.24290     10  292.446    40.59702   \n",
       "205  32.340000       1         0  234.79200      6  261.389    75.11627   \n",
       "206  37.299999       0         0  124.25940      0  143.206    63.98079   \n",
       "207  64.430000       0         0  224.75310     10  319.385    74.42332   \n",
       "\n",
       "     peoe_vsa.1  peoe_vsa.2  peoe_vsa.3  ...  ctdh  ctaa    mchg    achg  \\\n",
       "0      43.44619     0.00000    0.000000  ...     1     1  0.9241  0.9241   \n",
       "1      25.52006     0.00000    8.619013  ...     2     2  1.2685  1.0420   \n",
       "2     124.74020    21.65084    8.619013  ...     1     4  1.2562  1.2562   \n",
       "3     124.74020    13.19232   21.785640  ...     1     3  1.1962  1.1962   \n",
       "4     118.04060    33.00190    0.000000  ...     1     3  1.2934  1.2934   \n",
       "..          ...         ...         ...  ...   ...   ...     ...     ...   \n",
       "203   109.50990    13.19232    0.000000  ...     1     3  0.8717  0.8717   \n",
       "204   104.67720    13.19232    0.000000  ...     0     1  0.0000  0.0000   \n",
       "205    86.66676     0.00000    8.619013  ...     1     2  1.2276  1.2276   \n",
       "206    14.70850     0.00000    0.000000  ...     1     2  0.9082  0.9082   \n",
       "207    43.65297    29.68691    6.699551  ...     0     4  0.0000  0.0000   \n",
       "\n",
       "       rdta      n_sp2    n_sp3      o_sp2      o_sp3  logBBB  \n",
       "0    1.0000   0.000000   6.0255   0.000000   0.000000    1.08  \n",
       "1    1.0000   0.000000   6.5681  32.010201  33.613499   -0.40  \n",
       "2    0.2500  26.973301  10.8567   0.000000  27.545099    0.22  \n",
       "3    0.3333  21.706499  11.0017   0.000000  15.131600    0.14  \n",
       "4    0.3333  24.206100  10.8109   0.000000  15.133300    0.69  \n",
       "..      ...        ...      ...        ...        ...     ...  \n",
       "203  0.3333   0.000000   3.1150   0.000000  49.692799   -0.02  \n",
       "204  0.0000   0.000000   4.6658   0.000000   0.000000    0.08  \n",
       "205  0.5000   0.000000  16.1765  54.358601   0.000000    0.25  \n",
       "206  0.5000   0.000000   0.0000  30.101400  15.944600   -0.84  \n",
       "207  0.0000  26.665400   2.0261  40.455898   4.469700   -0.25  \n",
       "\n",
       "[208 rows x 135 columns]"
      ]
     },
     "execution_count": 3,
     "metadata": {},
     "output_type": "execute_result"
    }
   ],
   "source": [
    "df # (208x135)"
   ]
  },
  {
   "cell_type": "code",
   "execution_count": 4,
   "metadata": {},
   "outputs": [
    {
     "data": {
      "text/plain": [
       "np.int64(0)"
      ]
     },
     "execution_count": 4,
     "metadata": {},
     "output_type": "execute_result"
    }
   ],
   "source": [
    "# checking for missing values\n",
    "df.isna().sum().sum() # no obvious missing values"
   ]
  },
  {
   "cell_type": "markdown",
   "metadata": {},
   "source": [
    "### Preparing for RandomForest\n",
    "\n",
    "Initially, the dataset needs to be understood. When visiting the `caret` homepage ([see here](https://topepo.github.io/caret/data-sets.html)),\n",
    "following instruction can be found:\n",
    "\n",
    "\" ...  to predict the log of the ratio of the concentration of a compound in the brain and the concentration in blood\"\n",
    "\n",
    "we can conclude from this statement that `logBBB` is our continous target variable $y$. \n",
    "\n",
    "Scaling/Centering is **not** performed, as the RandomForest Regressor is a tree-partitioning algorithm which is independent on the units and scales of the input features [see Stackoverflow, accessed 09.05.25](https://stats.stackexchange.com/questions/255765/does-random-forest-need-input-variables-to-be-scaled-or-centered)."
   ]
  },
  {
   "cell_type": "code",
   "execution_count": 5,
   "metadata": {},
   "outputs": [
    {
     "data": {
      "text/plain": [
       "count    208.000000\n",
       "mean      -0.018894\n",
       "std        0.779321\n",
       "min       -2.150000\n",
       "25%       -0.422500\n",
       "50%        0.020000\n",
       "75%        0.530000\n",
       "max        1.640000\n",
       "Name: logBBB, dtype: float64"
      ]
     },
     "execution_count": 5,
     "metadata": {},
     "output_type": "execute_result"
    }
   ],
   "source": [
    "df['logBBB'].describe() # lays on an interval between [-2.15, 1.64]"
   ]
  },
  {
   "cell_type": "code",
   "execution_count": 6,
   "metadata": {},
   "outputs": [],
   "source": [
    "X = df.drop('logBBB', axis=1)\n",
    "y = df['logBBB']"
   ]
  },
  {
   "cell_type": "code",
   "execution_count": 7,
   "metadata": {},
   "outputs": [],
   "source": [
    "# train test split\n",
    "X_train, X_test, y_train, y_test = train_test_split(\n",
    "    X, y, test_size=0.25, random_state=42\n",
    ")"
   ]
  },
  {
   "cell_type": "code",
   "execution_count": 22,
   "metadata": {},
   "outputs": [],
   "source": [
    "# due to compute power, a \"smaller\" parameter grid for grid search is setted up:\n",
    "# valus are also on the lower side to avoid overfitting. The more trees and the greater the depth, to more likely the rf will overfitt\n",
    "\n",
    "param_grid = {\n",
    "    'n_estimators': [25, 50, 100, 200],       # number of trees in the forest\n",
    "    'max_depth': [None, 5, 10, 15],          # max depth of each tree\n",
    "    'min_samples_split': [2, 3, 5],        # Minimum number of samples required to split an internal node\n",
    "    'min_samples_leaf': [2, 3, 5]          # Minimum number of samples required to be at a leaf node\n",
    "}"
   ]
  },
  {
   "cell_type": "code",
   "execution_count": 23,
   "metadata": {},
   "outputs": [],
   "source": [
    "# init the rf\n",
    "rf_regressor = RandomForestRegressor(random_state=42)"
   ]
  },
  {
   "cell_type": "code",
   "execution_count": 24,
   "metadata": {},
   "outputs": [],
   "source": [
    "# init GridSearchCV\n",
    "# a negative MSE is used as GridSearchCV tries to maximize the score,\n",
    "# so a lower MSE (better) means a higher negative MSE.\n",
    "grid_search = GridSearchCV(estimator=rf_regressor,\n",
    "                           param_grid=param_grid,\n",
    "                           cv=10,  # 10-fold cross-val\n",
    "                           scoring='neg_mean_squared_error',\n",
    "                           n_jobs=-1, # Use all available cores\n",
    "                           verbose=1)"
   ]
  },
  {
   "cell_type": "code",
   "execution_count": null,
   "metadata": {},
   "outputs": [
    {
     "name": "stdout",
     "output_type": "stream",
     "text": [
      "Starting GridSearchCV...\n",
      "Fitting 10 folds for each of 144 candidates, totalling 1440 fits\n",
      "GridSearchCV complete.\n"
     ]
    }
   ],
   "source": [
    "# fitting GridSearchCV to the training data (60s runtime)\n",
    "print(\"Starting GridSearchCV...\")\n",
    "grid_search.fit(X_train, y_train)\n",
    "print(\"GridSearchCV complete.\")"
   ]
  },
  {
   "cell_type": "markdown",
   "metadata": {},
   "source": [
    "### Model evaluation based on the cross-validation results"
   ]
  },
  {
   "cell_type": "code",
   "execution_count": 26,
   "metadata": {},
   "outputs": [
    {
     "name": "stdout",
     "output_type": "stream",
     "text": [
      "\n",
      "Best Hyperparameters found by GridSearchCV:\n",
      "{'max_depth': 10, 'min_samples_leaf': 2, 'min_samples_split': 2, 'n_estimators': 50}\n",
      "\n",
      "Best Cross-Validated MSE: 0.2847\n",
      "Best Cross-Validated RMSE: 0.5336\n"
     ]
    }
   ],
   "source": [
    "print(\"\\nBest Hyperparameters found by GridSearchCV:\")\n",
    "print(grid_search.best_params_)\n",
    "\n",
    "best_cv_mse = -grid_search.best_score_\n",
    "best_cv_rmse = np.sqrt(best_cv_mse)\n",
    "print(f\"\\nBest Cross-Validated MSE: {best_cv_mse:.4f}\")\n",
    "print(f\"Best Cross-Validated RMSE: {best_cv_rmse:.4f}\")"
   ]
  },
  {
   "cell_type": "code",
   "execution_count": 27,
   "metadata": {},
   "outputs": [
    {
     "name": "stdout",
     "output_type": "stream",
     "text": [
      "\n",
      "Top 10 Feature Importances:\n",
      "                  feature  importance\n",
      "93                  fnsa3    0.205537\n",
      "71                   tcnp    0.121989\n",
      "76   most_positive_charge    0.049899\n",
      "60                    prx    0.037412\n",
      "29             slogp_vsa0    0.029227\n",
      "14           peoe_vsa.1.1    0.021676\n",
      "130                 n_sp2    0.021385\n",
      "66             polar_area    0.020876\n",
      "68               psa_npsa    0.020263\n",
      "48              logp.o.w.    0.019700\n"
     ]
    }
   ],
   "source": [
    "# extract the best model\n",
    "best_rf_model = grid_search.best_estimator_\n",
    "\n",
    "# feature importances (useful as the number of features is pretty high)\n",
    "importances = best_rf_model.feature_importances_\n",
    "feature_names = X.columns # original feature names\n",
    "\n",
    "# df for feature importances\n",
    "feature_importance_df = pd.DataFrame({'feature': feature_names, 'importance': importances})\n",
    "feature_importance_df = feature_importance_df.sort_values(by='importance', ascending=False)\n",
    "\n",
    "print(\"\\nTop 10 Feature Importances:\")\n",
    "print(feature_importance_df.head(10))"
   ]
  },
  {
   "cell_type": "code",
   "execution_count": 28,
   "metadata": {},
   "outputs": [
    {
     "name": "stderr",
     "output_type": "stream",
     "text": [
      "/tmp/ipykernel_78883/69765447.py:4: FutureWarning: \n",
      "\n",
      "Passing `palette` without assigning `hue` is deprecated and will be removed in v0.14.0. Assign the `y` variable to `hue` and set `legend=False` for the same effect.\n",
      "\n",
      "  sns.barplot(x='importance', y='feature', data=feature_importance_df.head(top_n), palette='viridis')\n"
     ]
    },
    {
     "data": {
      "image/png": "[encoded data removed]",
      "text/plain": [
       "<Figure size 1000x800 with 1 Axes>"
      ]
     },
     "metadata": {},
     "output_type": "display_data"
    }
   ],
   "source": [
    "# plotting feature importances\n",
    "plt.figure(figsize=(10, 8))\n",
    "top_n = 10\n",
    "sns.barplot(x='importance', y='feature', data=feature_importance_df.head(top_n), palette='viridis')\n",
    "plt.title(f'Top {top_n} Feature Importances from RandomForestRegressor')\n",
    "plt.xlabel('Importance')\n",
    "plt.ylabel('Feature')\n",
    "plt.tight_layout()\n",
    "plt.show()"
   ]
  },
  {
   "cell_type": "markdown",
   "metadata": {},
   "source": [
    "### Prediction using the best RF-regressor estimator"
   ]
  },
  {
   "cell_type": "code",
   "execution_count": 29,
   "metadata": {},
   "outputs": [],
   "source": [
    "y_pred_test = best_rf_model.predict(X_test)"
   ]
  },
  {
   "cell_type": "code",
   "execution_count": 30,
   "metadata": {},
   "outputs": [
    {
     "name": "stdout",
     "output_type": "stream",
     "text": [
      "\n",
      "Performance on the Test Set:\n",
      "Mean Squared Error (MSE): 0.2402\n",
      "Root Mean Squared Error (RMSE): 0.4901\n",
      "R-squared (R2 Score): 0.4255\n"
     ]
    }
   ],
   "source": [
    "test_mse = mean_squared_error(y_test, y_pred_test)\n",
    "test_rmse = np.sqrt(test_mse)\n",
    "test_r2 = r2_score(y_test, y_pred_test)\n",
    "\n",
    "print(\"\\nPerformance on the Test Set:\")\n",
    "print(f\"Mean Squared Error (MSE): {test_mse:.4f}\")\n",
    "print(f\"Root Mean Squared Error (RMSE): {test_rmse:.4f}\")\n",
    "print(f\"R-squared (R2 Score): {test_r2:.4f}\")"
   ]
  },
  {
   "cell_type": "code",
   "execution_count": 33,
   "metadata": {},
   "outputs": [
    {
     "data": {
      "image/png": "[encoded data removed]",
      "text/plain": [
       "<Figure size 800x800 with 1 Axes>"
      ]
     },
     "metadata": {},
     "output_type": "display_data"
    }
   ],
   "source": [
    "plt.figure(figsize=(8, 8))\n",
    "plt.scatter(y_test, y_pred_test, alpha=0.7, edgecolors='w', linewidth=0.5)\n",
    "plt.plot([y_test.min(), y_test.max()], [y_test.min(), y_test.max()], 'k--', lw=2) # Diagonal line\n",
    "plt.xlabel('Actual logBBB')\n",
    "plt.ylabel('Predicted logBBB')\n",
    "plt.title('Actual vs. Predicted logBBB on Test Set')\n",
    "plt.grid(True)\n",
    "plt.show()"
   ]
  },
  {
   "cell_type": "markdown",
   "metadata": {},
   "source": [
    "### Building a smaller model based on the most important features"
   ]
  },
  {
   "cell_type": "code",
   "execution_count": null,
   "metadata": {},
   "outputs": [
    {
     "name": "stdout",
     "output_type": "stream",
     "text": [
      "\n",
      "Top 5 selected feature names based on importance:\n",
      "['fnsa3', 'tcnp', 'most_positive_charge', 'prx', 'slogp_vsa0']\n"
     ]
    }
   ],
   "source": [
    "top_n = 5\n",
    "selected_feature_names = feature_importance_df['feature'].head(top_n).tolist()\n",
    "\n",
    "print(f\"\\nTop {top_n} selected feature names based on importance:\")\n",
    "print(selected_feature_names)"
   ]
  },
  {
   "cell_type": "code",
   "execution_count": 43,
   "metadata": {},
   "outputs": [],
   "source": [
    "\n",
    "X_train_selected = X_train[selected_feature_names]\n",
    "X_test_selected = X_test[selected_feature_names]"
   ]
  },
  {
   "cell_type": "code",
   "execution_count": 44,
   "metadata": {},
   "outputs": [],
   "source": [
    "# re-running with only the most 5 important features and evaluate on R²\n",
    "# using the same param grid as above\n",
    "\n",
    "rf_regressor_selected = RandomForestRegressor(random_state=42)\n",
    "grid_search_selected = GridSearchCV(estimator=rf_regressor_selected,\n",
    "                    param_grid=param_grid,\n",
    "                    cv=10,\n",
    "                    scoring='r2',\n",
    "                    n_jobs=-1,\n",
    "                    verbose=1)"
   ]
  },
  {
   "cell_type": "code",
   "execution_count": 45,
   "metadata": {},
   "outputs": [
    {
     "name": "stdout",
     "output_type": "stream",
     "text": [
      "\n",
      "Starting GridSearchCV with selected unscaled features...\n",
      "Fitting 10 folds for each of 144 candidates, totalling 1440 fits\n",
      "GridSearchCV with selected unscaled features complete.\n"
     ]
    }
   ],
   "source": [
    "print(\"\\nStarting GridSearchCV with selected unscaled features...\")\n",
    "grid_search_selected.fit(X_train_selected, y_train) # y-train remains the same of course\n",
    "print(\"GridSearchCV with selected unscaled features complete.\")\n",
    "\n",
    "best_rf_model_selected = grid_search_selected.best_estimator_"
   ]
  },
  {
   "cell_type": "code",
   "execution_count": null,
   "metadata": {},
   "outputs": [
    {
     "name": "stdout",
     "output_type": "stream",
     "text": [
      "{'max_depth': None, 'min_samples_leaf': 3, 'min_samples_split': 2, 'n_estimators': 200}\n",
      "Best CV R2 Score (selected unscaled features): 0.4780\n",
      "R-squared (R2 Score): 0.2043\n"
     ]
    }
   ],
   "source": [
    "print(grid_search_selected.best_params_)\n",
    "print(f\"Best CV R2 Score (selected unscaled features): {grid_search_selected.best_score_:.4f}\")\n",
    "\n",
    "# predict\n",
    "y_pred_test_selected = best_rf_model_selected.predict(X_test_selected)\n",
    "\n",
    "# based on the 5 most important features from the full model, the shrinked model has a worse R² score ...\n",
    "test_r2_selected = r2_score(y_test, y_pred_test_selected)\n",
    "print(f\"R-squared (R2 Score): {test_r2_selected:.4f}\")\n"
   ]
  },
  {
   "cell_type": "markdown",
   "metadata": {},
   "source": [
    "**Final thoughts**\n",
    "\n",
    "Based on the results, the full model with all features included is yielding an R² of 0.42 on the test set. Given the intervall of $[0,1]$ of R², this is not really a satisfying result. Additionally, compared to the Actual vs Predicted scatter plot we can see that the residuals spread to a certain degree yielding this mediocre R². Given the metrics, another model was created using the 5 most important features from the base model which yielded even a smaller/worse R² of 0.2 on the test set (usign the same paramter grid with `GridSearchCV`).\n",
    "\n",
    "In order to use the full potential of hyperparameter tuning I would say that also domain knowledge comes into place. I have no idea about biological data and didnt check the paper (due to time contraints). If potential outliers or specific features could be discarded from the initial feature space the results would have yielded a far better performance. In addition to that I'd argue that `GridSearchCV` is maybe not the best method as the parameter space in this case is completely unknown. I would have used `RandomSearchCV` instead.\n",
    "\n",
    "In conclusion, one can say, that even with \"automating\" the search for best params for an estimator to learn patterns, it is still very hard to find the sweet spot of a non-overfitting model with a solid performance."
   ]
  },
  {
   "cell_type": "markdown",
   "metadata": {},
   "source": []
  }
 ],
 "metadata": {
  "kernelspec": {
   "display_name": ".venv",
   "language": "python",
   "name": "python3"
  },
  "language_info": {
   "codemirror_mode": {
    "name": "ipython",
    "version": 3
   },
   "file_extension": ".py",
   "mimetype": "text/x-python",
   "name": "python",
   "nbconvert_exporter": "python",
   "pygments_lexer": "ipython3",
   "version": "3.10.12"
  },
  "orig_nbformat": 4
 },
 "nbformat": 4,
 "nbformat_minor": 2
}
