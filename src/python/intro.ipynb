{
 "cells": [
  {
   "metadata": {},
   "cell_type": "markdown",
   "source": [
    "## Intro\n",
    "\n",
    "**Author**: Andre Schomakers\n",
    "\n",
    "**Date**: 7 Mar 2025\n",
    "\n",
    "This interactive Python notebook `.ipynb` is designed to compare two different mean functions for the famous iris dataset's numerical columns.\n",
    "\n",
    "The mean can be mathematically described by:\n",
    "\n",
    "$$\\bar{x} = \\frac{1}{n} \\sum_{i=1}^{n} x_i$$\n",
    "\n",
    "Where:\n",
    "- $\\bar{x}$ represents the mean\n",
    "- $n$ is the number of observations\n",
    "- $x_i$ is the value of the $i$-th observation"
   ],
   "id": "1e7ad4661f4a84fa"
  },
  {
   "metadata": {},
   "cell_type": "markdown",
   "source": [
    "#### Initial naive calcMeans()\n",
    "\n",
    "Initial setup and functions programmed (before executed):\n",
    "Note, that I'm using type-hinting here which is I think optional and not really pythonic."
   ],
   "id": "27c195345ffb48eb"
  },
  {
   "metadata": {
    "ExecuteTime": {
     "end_time": "2025-03-05T22:28:53.393898Z",
     "start_time": "2025-03-05T22:28:51.961843Z"
    }
   },
   "cell_type": "code",
   "source": [
    "# install packages\n",
    "!pip install pandas\n",
    "!pip install scikit-learn"
   ],
   "id": "f896ce1fe459b4d5",
   "outputs": [
    {
     "name": "stdout",
     "output_type": "stream",
     "text": [
      "Requirement already satisfied: pandas in /home/andre/ownCloud/MSc_Medizininformatik/2_Semester/M12_ML/.venv/lib/python3.11/site-packages (2.2.3)\r\n",
      "Requirement already satisfied: numpy>=1.23.2 in /home/andre/ownCloud/MSc_Medizininformatik/2_Semester/M12_ML/.venv/lib/python3.11/site-packages (from pandas) (2.2.3)\r\n",
      "Requirement already satisfied: python-dateutil>=2.8.2 in /home/andre/ownCloud/MSc_Medizininformatik/2_Semester/M12_ML/.venv/lib/python3.11/site-packages (from pandas) (2.9.0.post0)\r\n",
      "Requirement already satisfied: pytz>=2020.1 in /home/andre/ownCloud/MSc_Medizininformatik/2_Semester/M12_ML/.venv/lib/python3.11/site-packages (from pandas) (2025.1)\r\n",
      "Requirement already satisfied: tzdata>=2022.7 in /home/andre/ownCloud/MSc_Medizininformatik/2_Semester/M12_ML/.venv/lib/python3.11/site-packages (from pandas) (2025.1)\r\n",
      "Requirement already satisfied: six>=1.5 in /home/andre/ownCloud/MSc_Medizininformatik/2_Semester/M12_ML/.venv/lib/python3.11/site-packages (from python-dateutil>=2.8.2->pandas) (1.17.0)\r\n",
      "Requirement already satisfied: scikit-learn in /home/andre/ownCloud/MSc_Medizininformatik/2_Semester/M12_ML/.venv/lib/python3.11/site-packages (1.6.1)\r\n",
      "Requirement already satisfied: numpy>=1.19.5 in /home/andre/ownCloud/MSc_Medizininformatik/2_Semester/M12_ML/.venv/lib/python3.11/site-packages (from scikit-learn) (2.2.3)\r\n",
      "Requirement already satisfied: scipy>=1.6.0 in /home/andre/ownCloud/MSc_Medizininformatik/2_Semester/M12_ML/.venv/lib/python3.11/site-packages (from scikit-learn) (1.15.2)\r\n",
      "Requirement already satisfied: joblib>=1.2.0 in /home/andre/ownCloud/MSc_Medizininformatik/2_Semester/M12_ML/.venv/lib/python3.11/site-packages (from scikit-learn) (1.4.2)\r\n",
      "Requirement already satisfied: threadpoolctl>=3.1.0 in /home/andre/ownCloud/MSc_Medizininformatik/2_Semester/M12_ML/.venv/lib/python3.11/site-packages (from scikit-learn) (3.5.0)\r\n"
     ]
    }
   ],
   "execution_count": 13
  },
  {
   "metadata": {
    "ExecuteTime": {
     "end_time": "2025-03-07T15:54:44.559203Z",
     "start_time": "2025-03-07T15:54:44.556183Z"
    }
   },
   "cell_type": "code",
   "source": [
    "# import pkg\n",
    "import pandas as pd\n",
    "import numpy as np\n",
    "from sklearn import datasets # needed for the iris dataset"
   ],
   "id": "a444e91af68fb5c4",
   "outputs": [],
   "execution_count": 3
  },
  {
   "metadata": {
    "ExecuteTime": {
     "end_time": "2025-03-07T15:54:47.070555Z",
     "start_time": "2025-03-07T15:54:47.063240Z"
    }
   },
   "cell_type": "code",
   "source": [
    "# define the calcMeans function using apply\n",
    "def calcMeans(dataframe: pd.DataFrame) -> np.ndarray:\n",
    "    \"\"\"\n",
    "    Calculate the mean values of each column in a given dataframe using apply function.\n",
    "\n",
    "    Parameters:\n",
    "    -----------\n",
    "    dataframe : pandas.DataFrame\n",
    "        The input dataframe with numeric columns\n",
    "\n",
    "    Returns:\n",
    "    --------\n",
    "    numpy.ndarray\n",
    "        Array containing mean values for each column\n",
    "    \"\"\"\n",
    "    # apply fx\n",
    "    means = dataframe.apply(lambda col: col.mean())\n",
    "\n",
    "    # convert to ndarray for more efficient return type\n",
    "    return means.values\n",
    "\n",
    "def validate_means(dataframe: pd.DataFrame) -> None:\n",
    "    \"\"\"\n",
    "    Helper fx to validate our results against pandas describe\n",
    "\n",
    "    Parameters:\n",
    "    -----------\n",
    "    dataframe : pandas.DataFrame\n",
    "        The input dataframe to validate\n",
    "\n",
    "    Returns:\n",
    "    --------\n",
    "    None\n",
    "    \"\"\"\n",
    "    print(\"Our calculated means:\")\n",
    "    print(calcMeans(dataframe))\n",
    "\n",
    "    print(\"\\nPandas describe means:\")\n",
    "    print(dataframe.describe().loc['mean'].values)\n",
    "\n",
    "    # Check if our calculation matches pandas\n",
    "    comparison = calcMeans(dataframe) == dataframe.describe().loc['mean'].values\n",
    "    print(\"\\nDo our means match pandas?\", all(comparison))"
   ],
   "id": "c8483ab91fd18587",
   "outputs": [],
   "execution_count": 4
  },
  {
   "metadata": {},
   "cell_type": "markdown",
   "source": [
    "#### Execution of code on Sklearn's iris dataset\n",
    "\n"
   ],
   "id": "7a231a8e6c384271"
  },
  {
   "metadata": {
    "ExecuteTime": {
     "end_time": "2025-03-07T15:55:24.967603Z",
     "start_time": "2025-03-07T15:55:24.939194Z"
    }
   },
   "cell_type": "code",
   "source": [
    "iris: tuple[pd.DataFrame, pd.Series] = datasets.load_iris(return_X_y=True, as_frame=True)\n",
    "\n",
    "# extract the feature df (X part),\n",
    "iris_features = iris[0]\n",
    "\n",
    "# printing df's head\n",
    "print(\"First 5 rows of iris dataset features:\")\n",
    "print(iris_features.head())\n",
    "\n",
    "validate_means(iris_features)"
   ],
   "id": "d24c41c033affa55",
   "outputs": [
    {
     "name": "stdout",
     "output_type": "stream",
     "text": [
      "First 5 rows of iris dataset features:\n",
      "   sepal length (cm)  sepal width (cm)  petal length (cm)  petal width (cm)\n",
      "0                5.1               3.5                1.4               0.2\n",
      "1                4.9               3.0                1.4               0.2\n",
      "2                4.7               3.2                1.3               0.2\n",
      "3                4.6               3.1                1.5               0.2\n",
      "4                5.0               3.6                1.4               0.2\n",
      "Our calculated means:\n",
      "[5.84333333 3.05733333 3.758      1.19933333]\n",
      "\n",
      "Pandas describe means:\n",
      "[5.84333333 3.05733333 3.758      1.19933333]\n",
      "\n",
      "Do our means match pandas? True\n"
     ]
    }
   ],
   "execution_count": 8
  },
  {
   "metadata": {},
   "cell_type": "markdown",
   "source": "Both arrays have share the same values for the 4 mean values for the columns `sepal length (cm)`, `sepal width (cm)`, `petal width (cm)` and `petal width (cm)`.",
   "id": "448e55beb9f3a7b4"
  },
  {
   "metadata": {
    "ExecuteTime": {
     "end_time": "2025-03-07T15:55:34.927598Z",
     "start_time": "2025-03-07T15:55:34.906519Z"
    }
   },
   "cell_type": "code",
   "source": "iris_features.describe().loc['mean']",
   "id": "201f500fa396c950",
   "outputs": [
    {
     "data": {
      "text/plain": [
       "       sepal length (cm)  sepal width (cm)  petal length (cm)  \\\n",
       "count         150.000000        150.000000         150.000000   \n",
       "mean            5.843333          3.057333           3.758000   \n",
       "std             0.828066          0.435866           1.765298   \n",
       "min             4.300000          2.000000           1.000000   \n",
       "25%             5.100000          2.800000           1.600000   \n",
       "50%             5.800000          3.000000           4.350000   \n",
       "75%             6.400000          3.300000           5.100000   \n",
       "max             7.900000          4.400000           6.900000   \n",
       "\n",
       "       petal width (cm)  \n",
       "count        150.000000  \n",
       "mean           1.199333  \n",
       "std            0.762238  \n",
       "min            0.100000  \n",
       "25%            0.300000  \n",
       "50%            1.300000  \n",
       "75%            1.800000  \n",
       "max            2.500000  "
      ],
      "text/html": [
       "<div>\n",
       "<style scoped>\n",
       "    .dataframe tbody tr th:only-of-type {\n",
       "        vertical-align: middle;\n",
       "    }\n",
       "\n",
       "    .dataframe tbody tr th {\n",
       "        vertical-align: top;\n",
       "    }\n",
       "\n",
       "    .dataframe thead th {\n",
       "        text-align: right;\n",
       "    }\n",
       "</style>\n",
       "<table border=\"1\" class=\"dataframe\">\n",
       "  <thead>\n",
       "    <tr style=\"text-align: right;\">\n",
       "      <th></th>\n",
       "      <th>sepal length (cm)</th>\n",
       "      <th>sepal width (cm)</th>\n",
       "      <th>petal length (cm)</th>\n",
       "      <th>petal width (cm)</th>\n",
       "    </tr>\n",
       "  </thead>\n",
       "  <tbody>\n",
       "    <tr>\n",
       "      <th>count</th>\n",
       "      <td>150.000000</td>\n",
       "      <td>150.000000</td>\n",
       "      <td>150.000000</td>\n",
       "      <td>150.000000</td>\n",
       "    </tr>\n",
       "    <tr>\n",
       "      <th>mean</th>\n",
       "      <td>5.843333</td>\n",
       "      <td>3.057333</td>\n",
       "      <td>3.758000</td>\n",
       "      <td>1.199333</td>\n",
       "    </tr>\n",
       "    <tr>\n",
       "      <th>std</th>\n",
       "      <td>0.828066</td>\n",
       "      <td>0.435866</td>\n",
       "      <td>1.765298</td>\n",
       "      <td>0.762238</td>\n",
       "    </tr>\n",
       "    <tr>\n",
       "      <th>min</th>\n",
       "      <td>4.300000</td>\n",
       "      <td>2.000000</td>\n",
       "      <td>1.000000</td>\n",
       "      <td>0.100000</td>\n",
       "    </tr>\n",
       "    <tr>\n",
       "      <th>25%</th>\n",
       "      <td>5.100000</td>\n",
       "      <td>2.800000</td>\n",
       "      <td>1.600000</td>\n",
       "      <td>0.300000</td>\n",
       "    </tr>\n",
       "    <tr>\n",
       "      <th>50%</th>\n",
       "      <td>5.800000</td>\n",
       "      <td>3.000000</td>\n",
       "      <td>4.350000</td>\n",
       "      <td>1.300000</td>\n",
       "    </tr>\n",
       "    <tr>\n",
       "      <th>75%</th>\n",
       "      <td>6.400000</td>\n",
       "      <td>3.300000</td>\n",
       "      <td>5.100000</td>\n",
       "      <td>1.800000</td>\n",
       "    </tr>\n",
       "    <tr>\n",
       "      <th>max</th>\n",
       "      <td>7.900000</td>\n",
       "      <td>4.400000</td>\n",
       "      <td>6.900000</td>\n",
       "      <td>2.500000</td>\n",
       "    </tr>\n",
       "  </tbody>\n",
       "</table>\n",
       "</div>"
      ]
     },
     "execution_count": 10,
     "metadata": {},
     "output_type": "execute_result"
    }
   ],
   "execution_count": 10
  }
 ],
 "metadata": {
  "kernelspec": {
   "name": "python3",
   "language": "python",
   "display_name": "Python 3 (ipykernel)"
  }
 },
 "nbformat": 4,
 "nbformat_minor": 0
}
