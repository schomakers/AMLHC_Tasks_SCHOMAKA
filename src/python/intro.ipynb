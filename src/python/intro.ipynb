{
 "cells": [
  {
   "metadata": {},
   "cell_type": "markdown",
   "source": [
    "## Intro\n",
    "\n",
    "**Author**: Andre Schomakers\n",
    "\n",
    "**Date**: 5 Mar 2025\n",
    "\n",
    "This interactive Python notebook `.ipynb` is designed to compare two different mean functions for the famous iris dataset's numerical columns.\n",
    "\n",
    "The mean can be mathematically described by:\n",
    "\n",
    "$$\\bar{x} = \\frac{1}{n} \\sum_{i=1}^{n} x_i$$\n",
    "\n",
    "Where:\n",
    "- $\\bar{x}$ represents the mean\n",
    "- $n$ is the number of observations\n",
    "- $x_i$ is the value of the $i$-th observation"
   ],
   "id": "1e7ad4661f4a84fa"
  },
  {
   "metadata": {},
   "cell_type": "markdown",
   "source": [
    "#### Initial naive calcMeans()\n",
    "\n",
    "Initial setup and functions programmed (before executed):\n",
    "Note, that I'm using type-hinting here which is I think optional and not really pythonic."
   ],
   "id": "27c195345ffb48eb"
  },
  {
   "metadata": {
    "ExecuteTime": {
     "end_time": "2025-03-05T22:28:53.393898Z",
     "start_time": "2025-03-05T22:28:51.961843Z"
    }
   },
   "cell_type": "code",
   "source": [
    "# install packages\n",
    "!pip install pandas\n",
    "!pip install scikit-learn"
   ],
   "id": "f896ce1fe459b4d5",
   "outputs": [
    {
     "name": "stdout",
     "output_type": "stream",
     "text": [
      "Requirement already satisfied: pandas in /home/andre/ownCloud/MSc_Medizininformatik/2_Semester/M12_ML/.venv/lib/python3.11/site-packages (2.2.3)\r\n",
      "Requirement already satisfied: numpy>=1.23.2 in /home/andre/ownCloud/MSc_Medizininformatik/2_Semester/M12_ML/.venv/lib/python3.11/site-packages (from pandas) (2.2.3)\r\n",
      "Requirement already satisfied: python-dateutil>=2.8.2 in /home/andre/ownCloud/MSc_Medizininformatik/2_Semester/M12_ML/.venv/lib/python3.11/site-packages (from pandas) (2.9.0.post0)\r\n",
      "Requirement already satisfied: pytz>=2020.1 in /home/andre/ownCloud/MSc_Medizininformatik/2_Semester/M12_ML/.venv/lib/python3.11/site-packages (from pandas) (2025.1)\r\n",
      "Requirement already satisfied: tzdata>=2022.7 in /home/andre/ownCloud/MSc_Medizininformatik/2_Semester/M12_ML/.venv/lib/python3.11/site-packages (from pandas) (2025.1)\r\n",
      "Requirement already satisfied: six>=1.5 in /home/andre/ownCloud/MSc_Medizininformatik/2_Semester/M12_ML/.venv/lib/python3.11/site-packages (from python-dateutil>=2.8.2->pandas) (1.17.0)\r\n",
      "Requirement already satisfied: scikit-learn in /home/andre/ownCloud/MSc_Medizininformatik/2_Semester/M12_ML/.venv/lib/python3.11/site-packages (1.6.1)\r\n",
      "Requirement already satisfied: numpy>=1.19.5 in /home/andre/ownCloud/MSc_Medizininformatik/2_Semester/M12_ML/.venv/lib/python3.11/site-packages (from scikit-learn) (2.2.3)\r\n",
      "Requirement already satisfied: scipy>=1.6.0 in /home/andre/ownCloud/MSc_Medizininformatik/2_Semester/M12_ML/.venv/lib/python3.11/site-packages (from scikit-learn) (1.15.2)\r\n",
      "Requirement already satisfied: joblib>=1.2.0 in /home/andre/ownCloud/MSc_Medizininformatik/2_Semester/M12_ML/.venv/lib/python3.11/site-packages (from scikit-learn) (1.4.2)\r\n",
      "Requirement already satisfied: threadpoolctl>=3.1.0 in /home/andre/ownCloud/MSc_Medizininformatik/2_Semester/M12_ML/.venv/lib/python3.11/site-packages (from scikit-learn) (3.5.0)\r\n"
     ]
    }
   ],
   "execution_count": 13
  },
  {
   "metadata": {
    "ExecuteTime": {
     "end_time": "2025-03-05T22:28:54.824740Z",
     "start_time": "2025-03-05T22:28:54.821132Z"
    }
   },
   "cell_type": "code",
   "source": [
    "# import pkg\n",
    "import pandas as pd\n",
    "import numpy as np\n",
    "from sklearn import datasets # needed for the iris dataset"
   ],
   "id": "a444e91af68fb5c4",
   "outputs": [],
   "execution_count": 14
  },
  {
   "metadata": {
    "ExecuteTime": {
     "end_time": "2025-03-05T22:28:55.813194Z",
     "start_time": "2025-03-05T22:28:55.807610Z"
    }
   },
   "cell_type": "code",
   "source": [
    "# define the calcMeans function using apply\n",
    "def calcMeans(dataframe: pd.DataFrame) -> np.ndarray:\n",
    "    \"\"\"\n",
    "    Calculate the mean values of each column in a given dataframe using apply function.\n",
    "\n",
    "    Parameters:\n",
    "    -----------\n",
    "    dataframe : pandas.DataFrame\n",
    "        The input dataframe with numeric columns\n",
    "\n",
    "    Returns:\n",
    "    --------\n",
    "    numpy.ndarray\n",
    "        Array containing mean values for each column\n",
    "    \"\"\"\n",
    "    # Use apply function to calculate mean for each column\n",
    "    means = dataframe.apply(lambda col: col.mean())\n",
    "\n",
    "    # Convert to ndarray for more efficient return type\n",
    "    return means.values\n",
    "\n",
    "def validate_means(dataframe: pd.DataFrame) -> None:\n",
    "    \"\"\"\n",
    "    Helper fx to validate our results against pandas describe\n",
    "\n",
    "    Parameters:\n",
    "    -----------\n",
    "    dataframe : pandas.DataFrame\n",
    "        The input dataframe to validate\n",
    "\n",
    "    Returns:\n",
    "    --------\n",
    "    None\n",
    "    \"\"\"\n",
    "    print(\"Our calculated means:\")\n",
    "    print(calcMeans(dataframe))\n",
    "\n",
    "    print(\"\\nPandas describe means:\")\n",
    "    print(dataframe.describe().loc['mean'].values)\n",
    "\n",
    "    # Check if our calculation matches pandas\n",
    "    comparison = calcMeans(dataframe) == dataframe.describe().loc['mean'].values\n",
    "    print(\"\\nDo our means match pandas?\", all(comparison))"
   ],
   "id": "c8483ab91fd18587",
   "outputs": [],
   "execution_count": 15
  },
  {
   "metadata": {},
   "cell_type": "markdown",
   "source": [
    "#### Execution of code on Sklearn's iris dataset\n",
    "\n"
   ],
   "id": "7a231a8e6c384271"
  },
  {
   "metadata": {
    "ExecuteTime": {
     "end_time": "2025-03-05T22:28:57.416861Z",
     "start_time": "2025-03-05T22:28:57.401202Z"
    }
   },
   "cell_type": "code",
   "source": [
    "iris: tuple[pd.DataFrame, pd.Series] = datasets.load_iris(return_X_y=True, as_frame=True)\n",
    "\n",
    "# extract the feature df (X part),\n",
    "iris_features = iris[0]\n",
    "\n",
    "# printing df's head\n",
    "print(\"First 5 rows of iris dataset features:\")\n",
    "print(iris_features.head())\n",
    "\n",
    "# call our own programmed fx\n",
    "print(\"\\nMean values calculated with calcMeans function:\")\n",
    "iris_our_means: np.ndarray = calcMeans(iris_features)\n",
    "print(iris_our_means) # shape (4,)\n",
    "\n",
    "# comparison vs pandas .describe()\n",
    "print(\"\\nMean values from pandas describe function:\")\n",
    "print(iris_features.describe().loc['mean'].values)"
   ],
   "id": "d24c41c033affa55",
   "outputs": [
    {
     "name": "stdout",
     "output_type": "stream",
     "text": [
      "First 5 rows of iris dataset features:\n",
      "   sepal length (cm)  sepal width (cm)  petal length (cm)  petal width (cm)\n",
      "0                5.1               3.5                1.4               0.2\n",
      "1                4.9               3.0                1.4               0.2\n",
      "2                4.7               3.2                1.3               0.2\n",
      "3                4.6               3.1                1.5               0.2\n",
      "4                5.0               3.6                1.4               0.2\n",
      "\n",
      "Mean values calculated with calcMeans function:\n",
      "[5.84333333 3.05733333 3.758      1.19933333]\n",
      "\n",
      "Mean values from pandas describe function:\n",
      "[5.84333333 3.05733333 3.758      1.19933333]\n"
     ]
    }
   ],
   "execution_count": 16
  },
  {
   "metadata": {},
   "cell_type": "markdown",
   "source": "Both arrays have share the same values for the 4 mean values for the columns `sepal length (cm)`, `sepal width (cm)`, `petal width (cm)` and `petal width (cm)`.",
   "id": "448e55beb9f3a7b4"
  },
  {
   "metadata": {},
   "cell_type": "code",
   "source": "",
   "id": "201f500fa396c950",
   "outputs": [],
   "execution_count": null
  }
 ],
 "metadata": {
  "kernelspec": {
   "name": "python3",
   "language": "python",
   "display_name": "Python 3 (ipykernel)"
  }
 },
 "nbformat": 5,
 "nbformat_minor": 9
}
